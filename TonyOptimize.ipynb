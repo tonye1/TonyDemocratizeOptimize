{
 "cells": [
  {
   "cell_type": "code",
   "execution_count": 10,
   "metadata": {
    "scrolled": true
   },
   "outputs": [
    {
     "name": "stdout",
     "output_type": "stream",
     "text": [
      "Collecting docplex\n",
      "Collecting requests (from docplex)\n",
      "  Using cached https://files.pythonhosted.org/packages/65/47/7e02164a2a3db50ed6d8a6ab1d6d60b69c4c3fdf57a284257925dfc12bda/requests-2.19.1-py2.py3-none-any.whl\n",
      "Collecting six (from docplex)\n",
      "  Using cached https://files.pythonhosted.org/packages/67/4b/141a581104b1f6397bfa78ac9d43d8ad29a7ca43ea90a2d863fe3056e86a/six-1.11.0-py2.py3-none-any.whl\n",
      "Collecting docloud>=1.0.315 (from docplex)\n",
      "Collecting urllib3<1.24,>=1.21.1 (from requests->docplex)\n",
      "  Using cached https://files.pythonhosted.org/packages/bd/c9/6fdd990019071a4a32a5e7cb78a1d92c53851ef4f56f62a3486e6a7d8ffb/urllib3-1.23-py2.py3-none-any.whl\n",
      "Collecting idna<2.8,>=2.5 (from requests->docplex)\n",
      "  Using cached https://files.pythonhosted.org/packages/4b/2a/0276479a4b3caeb8a8c1af2f8e4355746a97fab05a372e4a2c6a6b876165/idna-2.7-py2.py3-none-any.whl\n",
      "Collecting chardet<3.1.0,>=3.0.2 (from requests->docplex)\n",
      "  Using cached https://files.pythonhosted.org/packages/bc/a9/01ffebfb562e4274b6487b4bb1ddec7ca55ec7510b22e4c51f14098443b8/chardet-3.0.4-py2.py3-none-any.whl\n",
      "Collecting certifi>=2017.4.17 (from requests->docplex)\n",
      "  Using cached https://files.pythonhosted.org/packages/df/f7/04fee6ac349e915b82171f8e23cee63644d83663b34c539f7a09aed18f9e/certifi-2018.8.24-py2.py3-none-any.whl\n",
      "Installing collected packages: urllib3, idna, chardet, certifi, requests, six, docloud, docplex\n",
      "Successfully installed certifi-2018.8.24 chardet-3.0.4 docloud-1.0.315 docplex-2.7.113 idna-2.7 requests-2.19.1 six-1.11.0 urllib3-1.23\n"
     ]
    }
   ],
   "source": [
    "get_ipython().system(u'pip install docplex --upgrade')\n",
    "import sys\n",
    "import docplex.mp"
   ]
  },
  {
   "cell_type": "code",
   "execution_count": 11,
   "metadata": {},
   "outputs": [],
   "source": [
    "#put your API url and key here\n",
    "url = None\n",
    "key = None"
   ]
  },
  {
   "cell_type": "code",
   "execution_count": 12,
   "metadata": {},
   "outputs": [],
   "source": [
    "# first import the Model class from docplex.mp\n",
    "from docplex.mp.model import Model"
   ]
  },
  {
   "cell_type": "code",
   "execution_count": 13,
   "metadata": {},
   "outputs": [],
   "source": [
    "# create one model instance, with a name\n",
    "m = Model(name='microservices-throughput')\n"
   ]
  },
  {
   "cell_type": "code",
   "execution_count": 14,
   "metadata": {},
   "outputs": [],
   "source": [
    "# by default, all variables in Docplex have a lower bound of 0 and infinite upper bound\n",
    "service1 = m.integer_var(name='service1')\n",
    "service2 = m.integer_var(name='service2')\n",
    "service3 = m.integer_var(name='service3')\n",
    "service4 = m.integer_var(name='service4')"
   ]
  },
  {
   "cell_type": "code",
   "execution_count": 15,
   "metadata": {},
   "outputs": [
    {
     "data": {
      "text/plain": [
       "docplex.mp.LinearConstraint[](service3,GE,400)"
      ]
     },
     "execution_count": 15,
     "metadata": {},
     "output_type": "execute_result"
    }
   ],
   "source": [
    "m.add_constraint(service1 >= 0)\n",
    "m.add_constraint(service2 >= 0)\n",
    "m.add_constraint(service3 >= 0)\n",
    "m.add_constraint(service4 >= 0)\n",
    "m.add_constraint(service3 >= 400)"
   ]
  },
  {
   "cell_type": "code",
   "execution_count": 16,
   "metadata": {},
   "outputs": [],
   "source": [
    "# constraint #3: throughput-max\n",
    "ct_maintenance = m.add_constraint (2*service1 + 3*service2 + 4*service3 + 5*service4 <= 5000)\n",
    "ct_throughput = m.add_constraint (3*service1 + 4*service2 + 5*service3 + 5*service4 <= 6000)\n",
    "ct_total = m.add_constraint(service1 + service2 + service3 + service4 == 1500)\n"
   ]
  },
  {
   "cell_type": "code",
   "execution_count": 17,
   "metadata": {},
   "outputs": [
    {
     "name": "stdout",
     "output_type": "stream",
     "text": [
      "objective: 18400\n",
      "  service1=750\n",
      "  service3=400\n",
      "  service4=350\n"
     ]
    }
   ],
   "source": [
    "m.minimize(17*service1 + 12*service2 + 8*service3 + 7*service4)\n",
    "s = m.solve(url=url, key=key)\n",
    "m.print_solution()"
   ]
  }
 ],
 "metadata": {
  "kernelspec": {
   "display_name": "Python 3.5 with Spark",
   "language": "python3",
   "name": "python3"
  },
  "language_info": {
   "codemirror_mode": {
    "name": "ipython",
    "version": 3
   },
   "file_extension": ".py",
   "mimetype": "text/x-python",
   "name": "python",
   "nbconvert_exporter": "python",
   "pygments_lexer": "ipython3",
   "version": "3.5.4"
  }
 },
 "nbformat": 4,
 "nbformat_minor": 1
}
